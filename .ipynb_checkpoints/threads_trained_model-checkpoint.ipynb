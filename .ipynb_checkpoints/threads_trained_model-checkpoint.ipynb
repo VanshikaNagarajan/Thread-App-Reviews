{
 "cells": [
  {
   "cell_type": "code",
   "execution_count": 10,
   "id": "0ca8d7f8",
   "metadata": {},
   "outputs": [],
   "source": [
    "import pandas as pd\n",
    "from sklearn.model_selection import train_test_split\n",
    "from sklearn.feature_extraction.text import TfidfVectorizer\n",
    "from sklearn.svm import SVC\n",
    "from sklearn.metrics import accuracy_score, classification_report"
   ]
  },
  {
   "cell_type": "code",
   "execution_count": 11,
   "id": "b26c8ac2",
   "metadata": {},
   "outputs": [],
   "source": [
    "threads_S_result = pd.read_csv('sentiment_check_results.csv')"
   ]
  },
  {
   "cell_type": "code",
   "execution_count": 12,
   "id": "db988ce2",
   "metadata": {},
   "outputs": [],
   "source": [
    "x_train, x_test, y_train, y_test = train_test_split(threads_S_result['review_description'], threads_S_result['sentiment'], test_size=0.2 )\n",
    "tfidf_vectorizer = TfidfVectorizer(max_features=4000)\n",
    "x_train_tfidf = tfidf_vectorizer.fit_transform(x_train)\n",
    "x_test_tfidf = tfidf_vectorizer.transform(x_test)"
   ]
  },
  {
   "cell_type": "code",
   "execution_count": 13,
   "id": "32ae7e08",
   "metadata": {},
   "outputs": [
    {
     "name": "stdout",
     "output_type": "stream",
     "text": [
      "SVM:\n",
      "Accuracy: 0.9241993322616545\n",
      "              precision    recall  f1-score   support\n",
      "\n",
      "    Negative       0.91      0.94      0.92      4015\n",
      "    Positive       0.94      0.91      0.92      4072\n",
      "\n",
      "    accuracy                           0.92      8087\n",
      "   macro avg       0.92      0.92      0.92      8087\n",
      "weighted avg       0.92      0.92      0.92      8087\n",
      "\n"
     ]
    }
   ],
   "source": [
    "svm_model = SVC()\n",
    "svm_model.fit(x_train_tfidf, y_train)\n",
    "svm_predictions = svm_model.predict(x_test_tfidf)\n",
    "svm_accuracy = accuracy_score(y_test, svm_predictions)\n",
    "svm_classification_report = classification_report(y_test, svm_predictions)\n",
    "print(\"SVM:\")\n",
    "print(f\"Accuracy: {svm_accuracy}\")\n",
    "print(svm_classification_report)"
   ]
  },
  {
   "cell_type": "code",
   "execution_count": null,
   "id": "94921488",
   "metadata": {},
   "outputs": [],
   "source": []
  }
 ],
 "metadata": {
  "kernelspec": {
   "display_name": "Python 3 (ipykernel)",
   "language": "python",
   "name": "python3"
  },
  "language_info": {
   "codemirror_mode": {
    "name": "ipython",
    "version": 3
   },
   "file_extension": ".py",
   "mimetype": "text/x-python",
   "name": "python",
   "nbconvert_exporter": "python",
   "pygments_lexer": "ipython3",
   "version": "3.11.3"
  }
 },
 "nbformat": 4,
 "nbformat_minor": 5
}
