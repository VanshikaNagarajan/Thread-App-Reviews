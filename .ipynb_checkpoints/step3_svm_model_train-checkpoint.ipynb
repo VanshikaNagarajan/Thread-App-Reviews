{
 "cells": [
  {
   "cell_type": "code",
   "execution_count": 1,
   "id": "0ca8d7f8",
   "metadata": {},
   "outputs": [],
   "source": [
    "import pandas as pd\n",
    "from sklearn.model_selection import train_test_split\n",
    "from sklearn.feature_extraction.text import TfidfVectorizer\n",
    "from sklearn.svm import SVC\n",
    "from sklearn.metrics import accuracy_score, classification_report"
   ]
  },
  {
   "cell_type": "code",
   "execution_count": 9,
   "id": "b26c8ac2",
   "metadata": {},
   "outputs": [
    {
     "name": "stdout",
     "output_type": "stream",
     "text": [
      "0                   Very good app for Android phone and me\n",
      "1                                                   Sl👍👍👍👍\n",
      "2                                                 Best app\n",
      "3                                               Gatiya app\n",
      "4                                                 Lit bruv\n",
      "                               ...                        \n",
      "40430    They don’t let you delete your account once yo...\n",
      "40431                                 Twitter >>>> Threads\n",
      "40432    Really? Hard to believe. I’m not in Calif., bu...\n",
      "40433    While the app seems like a good start, it seem...\n",
      "40434    Been on it one day and it glitches and no one ...\n",
      "Name: review_description, Length: 40435, dtype: object\n"
     ]
    }
   ],
   "source": [
    "threads_S_result = pd.read_csv('sentiment_check_results.csv')\n",
    "print(threads_S_result['review_description'])"
   ]
  },
  {
   "cell_type": "code",
   "execution_count": 19,
   "id": "db988ce2",
   "metadata": {},
   "outputs": [],
   "source": [
    "x_train, x_test, y_train, y_test = train_test_split(threads_S_result['review_description'], threads_S_result['sentiment'], test_size=0.2 )\n",
    "tfidf_vectorizer = TfidfVectorizer()\n",
    "x_train_tfidf = tfidf_vectorizer.fit_transform(x_train)\n",
    "x_test_tfidf = tfidf_vectorizer.transform(x_test)"
   ]
  },
  {
   "cell_type": "code",
   "execution_count": 20,
   "id": "473becdf",
   "metadata": {},
   "outputs": [
    {
     "data": {
      "text/plain": [
       "array(['00', '000', '007', ..., '𝚠𝚒𝚝𝚑𝚘𝚞𝚝', '𝚢𝚘𝚞', '𝚣𝚞𝚌𝚔'], dtype=object)"
      ]
     },
     "execution_count": 20,
     "metadata": {},
     "output_type": "execute_result"
    }
   ],
   "source": [
    "tfidf_vectorizer.get_feature_names_out()"
   ]
  },
  {
   "cell_type": "code",
   "execution_count": 22,
   "id": "ff65c5f6",
   "metadata": {},
   "outputs": [
    {
     "name": "stdout",
     "output_type": "stream",
     "text": [
      "32161                             Hmm it's a very nice app\n",
      "14539          Crash every time. When I open it and scroll\n",
      "8590     Threads is USELESS to me unless I can have it ...\n",
      "13078    Video cricketer very nice hamari taraf se Thre...\n",
      "29004                               sana magkaroon ng b0lD\n",
      "                               ...                        \n",
      "23254                                                 Nice\n",
      "5846     Update.. Still sucks after updates today July ...\n",
      "22530                                     البرنامج مش چوسي\n",
      "10467    It's a very lively and user friendly app but I...\n",
      "34260                          Thought I'd be here first 😂\n",
      "Name: review_description, Length: 8087, dtype: object\n"
     ]
    }
   ],
   "source": [
    "print(x_test)"
   ]
  },
  {
   "cell_type": "code",
   "execution_count": 23,
   "id": "b189c911",
   "metadata": {},
   "outputs": [
    {
     "name": "stdout",
     "output_type": "stream",
     "text": [
      "  (0, 6156)\t0.26323689554263435\n",
      "  (0, 11750)\t0.3344622106918538\n",
      "  (0, 9619)\t0.21061154449360955\n",
      "  (0, 6777)\t0.22768237951297737\n",
      "  (0, 12697)\t0.18672718122421308\n",
      "  (0, 897)\t0.12338751049509959\n",
      "  (0, 5332)\t0.21569006352142978\n",
      "  (0, 10399)\t0.19139092443980313\n",
      "  (0, 13622)\t0.32627234732485194\n",
      "  (0, 7253)\t0.23958322847575142\n",
      "  (0, 9706)\t0.15891769625180943\n",
      "  (0, 10309)\t0.1603674803953114\n",
      "  (0, 14386)\t0.15751415465009966\n",
      "  (0, 11216)\t0.2034865095043925\n",
      "  (0, 2462)\t0.555298902397733\n",
      "  (1, 14688)\t1.0\n",
      "  (2, 817)\t0.3127158636810229\n",
      "  (2, 6108)\t0.4370666833815066\n",
      "  (2, 7479)\t0.15561607416894374\n",
      "  (2, 381)\t0.28409386076472226\n",
      "  (2, 6224)\t0.5946521565399304\n",
      "  (2, 2292)\t0.32632061684255986\n",
      "  (2, 3437)\t0.38230810397121273\n",
      "  (3, 2586)\t0.4678707836327863\n",
      "  (3, 5370)\t0.25965466671540127\n",
      "  :\t:\n",
      "  (32342, 1044)\t0.10844610649078631\n",
      "  (32342, 14893)\t0.06801173973926607\n",
      "  (32342, 14251)\t0.12751366053002697\n",
      "  (32342, 7479)\t0.0666211344339883\n",
      "  (32342, 897)\t0.06676374791235498\n",
      "  (32342, 10309)\t0.08677323978327064\n",
      "  (32342, 14386)\t0.08522933375906477\n",
      "  (32343, 5644)\t0.4899817250343137\n",
      "  (32343, 8721)\t0.42939050295621234\n",
      "  (32343, 4999)\t0.4076659335057499\n",
      "  (32343, 13550)\t0.4055038318808343\n",
      "  (32343, 9554)\t0.3068805215452322\n",
      "  (32343, 14531)\t0.18289931304967325\n",
      "  (32343, 5454)\t0.3424748470681294\n",
      "  (32344, 15248)\t0.7769949579943005\n",
      "  (32344, 10029)\t0.550897666237125\n",
      "  (32344, 1044)\t0.30461548973406516\n",
      "  (32345, 7538)\t0.48458688245102144\n",
      "  (32345, 8763)\t0.8747431356440586\n",
      "  (32346, 1797)\t0.6952756377976232\n",
      "  (32346, 1044)\t0.3523218733434401\n",
      "  (32346, 14340)\t0.4528530327992161\n",
      "  (32346, 7479)\t0.43288014014670295\n",
      "  (32347, 1108)\t0.6109043566840224\n",
      "  (32347, 2306)\t0.7917044063187224\n"
     ]
    }
   ],
   "source": [
    "print(x_train_tfidf)"
   ]
  },
  {
   "cell_type": "code",
   "execution_count": 7,
   "id": "05ef27cf",
   "metadata": {},
   "outputs": [
    {
     "name": "stdout",
     "output_type": "stream",
     "text": [
      "  (0, 553)\t0.9812915573986627\n",
      "  (0, 3535)\t0.19252760679473205\n",
      "  (1, 1282)\t1.0\n",
      "  (2, 3944)\t1.0\n",
      "  (3, 52)\t0.15040655665239672\n",
      "  (3, 174)\t0.1299376438370737\n",
      "  (3, 190)\t0.0760773645529337\n",
      "  (3, 222)\t0.12402818483664156\n",
      "  (3, 245)\t0.11920382979471292\n",
      "  (3, 402)\t0.1572245036401684\n",
      "  (3, 482)\t0.22188547212241447\n",
      "  (3, 611)\t0.20473150991061487\n",
      "  (3, 640)\t0.19676997852317746\n",
      "  (3, 916)\t0.1923969120685899\n",
      "  (3, 1062)\t0.16963629942095187\n",
      "  (3, 1389)\t0.2030501289647884\n",
      "  (3, 1597)\t0.14534799978205476\n",
      "  (3, 1611)\t0.17815115966787806\n",
      "  (3, 1682)\t0.26066544128080915\n",
      "  (3, 1771)\t0.22299475496555696\n",
      "  (3, 1783)\t0.07613839468789023\n",
      "  (3, 2129)\t0.28877991466204495\n",
      "  (3, 2201)\t0.16839385873825896\n",
      "  (3, 2339)\t0.09364720334405556\n",
      "  (3, 2340)\t0.2041594118079309\n",
      "  :\t:\n",
      "  (8082, 3627)\t0.39675731179741475\n",
      "  (8083, 1251)\t0.5126988432206901\n",
      "  (8083, 1994)\t0.28963645516410413\n",
      "  (8083, 2129)\t0.43598615565686494\n",
      "  (8083, 2370)\t0.2596260828978472\n",
      "  (8083, 2549)\t0.4636698660209684\n",
      "  (8083, 3109)\t0.42517201753984624\n",
      "  (8085, 100)\t0.23393408501608104\n",
      "  (8085, 546)\t0.1632855431234311\n",
      "  (8085, 564)\t0.17280507353329624\n",
      "  (8085, 1171)\t0.24202540300626232\n",
      "  (8085, 1194)\t0.26834263367970373\n",
      "  (8085, 1389)\t0.36357673802193297\n",
      "  (8085, 1681)\t0.1739173821232874\n",
      "  (8085, 1994)\t0.1717553730138661\n",
      "  (8085, 2212)\t0.2921551049643107\n",
      "  (8085, 2317)\t0.1804342957201917\n",
      "  (8085, 2523)\t0.27175852742325973\n",
      "  (8085, 2533)\t0.31453303014536266\n",
      "  (8085, 2920)\t0.30018155940052926\n",
      "  (8085, 3385)\t0.2546552744033953\n",
      "  (8085, 3845)\t0.3472443903028114\n",
      "  (8086, 419)\t0.7029198704912921\n",
      "  (8086, 1783)\t0.49770739144227416\n",
      "  (8086, 3535)\t0.5081249926664028\n"
     ]
    }
   ],
   "source": [
    "print(x_test_tfidf)"
   ]
  },
  {
   "cell_type": "code",
   "execution_count": 24,
   "id": "32ae7e08",
   "metadata": {},
   "outputs": [
    {
     "name": "stdout",
     "output_type": "stream",
     "text": [
      "SVM:\n",
      "Accuracy: 0.913441325584271\n",
      "              precision    recall  f1-score   support\n",
      "\n",
      "    Negative       0.90      0.93      0.91      4034\n",
      "    Positive       0.93      0.89      0.91      4053\n",
      "\n",
      "    accuracy                           0.91      8087\n",
      "   macro avg       0.91      0.91      0.91      8087\n",
      "weighted avg       0.91      0.91      0.91      8087\n",
      "\n"
     ]
    }
   ],
   "source": [
    "svm_model = SVC()\n",
    "svm_model.fit(x_train_tfidf, y_train)\n",
    "svm_predictions = svm_model.predict(x_test_tfidf)\n",
    "svm_accuracy = accuracy_score(y_test, svm_predictions)\n",
    "svm_classification_report = classification_report(y_test, svm_predictions)\n",
    "print(\"SVM:\")\n",
    "print(f\"Accuracy: {svm_accuracy}\")\n",
    "print(svm_classification_report)"
   ]
  },
  {
   "cell_type": "code",
   "execution_count": 25,
   "id": "bd040f82",
   "metadata": {},
   "outputs": [
    {
     "name": "stdout",
     "output_type": "stream",
     "text": [
      "SVM Classifier Parameters:\n",
      "C: 1.0\n",
      "break_ties: False\n",
      "cache_size: 200\n",
      "class_weight: None\n",
      "coef0: 0.0\n",
      "decision_function_shape: ovr\n",
      "degree: 3\n",
      "gamma: scale\n",
      "kernel: rbf\n",
      "max_iter: -1\n",
      "probability: False\n",
      "random_state: None\n",
      "shrinking: True\n",
      "tol: 0.001\n",
      "verbose: False\n"
     ]
    }
   ],
   "source": [
    "params = svm_model.get_params()\n",
    "print(\"SVM Classifier Parameters:\")\n",
    "for key, value in params.items():\n",
    "    print(f\"{key}: {value}\")"
   ]
  },
  {
   "cell_type": "code",
   "execution_count": 27,
   "id": "6031fac8",
   "metadata": {},
   "outputs": [
    {
     "data": {
      "text/plain": [
       "['model.joblib']"
      ]
     },
     "execution_count": 27,
     "metadata": {},
     "output_type": "execute_result"
    }
   ],
   "source": [
    "import joblib\n",
    "\n",
    "joblib.dump(svm_model, 'model.joblib')"
   ]
  }
 ],
 "metadata": {
  "kernelspec": {
   "display_name": "Python 3 (ipykernel)",
   "language": "python",
   "name": "python3"
  },
  "language_info": {
   "codemirror_mode": {
    "name": "ipython",
    "version": 3
   },
   "file_extension": ".py",
   "mimetype": "text/x-python",
   "name": "python",
   "nbconvert_exporter": "python",
   "pygments_lexer": "ipython3",
   "version": "3.10.13"
  }
 },
 "nbformat": 4,
 "nbformat_minor": 5
}
