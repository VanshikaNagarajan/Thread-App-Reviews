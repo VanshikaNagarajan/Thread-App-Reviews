{
 "cells": [
  {
   "cell_type": "code",
   "execution_count": 4,
   "id": "0b43c3eb",
   "metadata": {},
   "outputs": [
    {
     "name": "stdout",
     "output_type": "stream",
     "text": [
      "Mean Rating: 3.300531717571411\n",
      "Median Rating: 4.0\n",
      "Mode Rating: 5\n",
      "Variance of Rating: 3.144085140430113\n",
      "Standard Deviation of Rating: 1.773156829056616\n"
     ]
    }
   ],
   "source": [
    "import pandas as pd\n",
    "threads_data = pd.read_csv('threads_reviews.csv')\n",
    "\n",
    "mean_rating = threads_data['rating'].mean()\n",
    "median_rating = threads_data['rating'].median()\n",
    "mode_rating = threads_data['rating'].mode().values[0]  \n",
    "\n",
    "# Calculate measures of dispersion\n",
    "variance_rating = threads_data['rating'].var()\n",
    "std_dev_rating = threads_data['rating'].std()\n",
    "\n",
    "# Print the results\n",
    "print(f\"Mean Rating: {mean_rating}\")\n",
    "print(f\"Median Rating: {median_rating}\")\n",
    "print(f\"Mode Rating: {mode_rating}\")\n",
    "print(f\"Variance of Rating: {variance_rating}\")\n",
    "print(f\"Standard Deviation of Rating: {std_dev_rating}\")\n"
   ]
  },
  {
   "cell_type": "code",
   "execution_count": 7,
   "id": "ec300c72",
   "metadata": {},
   "outputs": [],
   "source": [
    "#to set the threshold value \n",
    "threshold = 3.9"
   ]
  },
  {
   "cell_type": "code",
   "execution_count": 13,
   "id": "95954cb8",
   "metadata": {},
   "outputs": [],
   "source": [
    "import pandas as pd\n",
    "threads_data = pd.read_csv('threads_reviews.csv')\n",
    "\n",
    "#to check the rating in comparison to the threshold value\n",
    "threads_data['sentiment'] = threads_data['rating'].apply(lambda rating: 'Positive' if rating >= threshold else 'Negative')"
   ]
  },
  {
   "cell_type": "code",
   "execution_count": 14,
   "id": "d81ce17d",
   "metadata": {},
   "outputs": [],
   "source": [
    "#to check the number of positive and negative ratings \n",
    "positive_count =  threads_data[threads_data['sentiment'] == 'Positive']['sentiment'].count()\n",
    "negative_count =  threads_data[threads_data['sentiment'] == 'Negative']['sentiment'].count()"
   ]
  },
  {
   "cell_type": "code",
   "execution_count": 16,
   "id": "ff748813",
   "metadata": {},
   "outputs": [
    {
     "name": "stdout",
     "output_type": "stream",
     "text": [
      "THE OVERALL SENTIMENT ANALYSIS ON RATINGS:  POSITIVE\n"
     ]
    }
   ],
   "source": [
    "#conditions to check the rating if its positive negative or neutral\n",
    "if positive_count > negative_count:\n",
    "    overall_rating = \"POSITIVE\"\n",
    "    print(\"THE OVERALL SENTIMENT ANALYSIS ON RATINGS: \", overall_rating)\n",
    "    \n",
    "elif negative_count < positive_count:\n",
    "    overall_rating = \"NEGATIVE\"\n",
    "    print(\"THE OVERALL SENTIMENT ANALYSIS ON RATINGS: \", overall_rating)\n",
    "    \n",
    "else:\n",
    "    overall_rating = \"NEUTRAL\"\n",
    "    print(\"THE OVERALL SENTIMENT ANALYSIS ON RATING: \", overall_rating)"
   ]
  },
  {
   "cell_type": "code",
   "execution_count": null,
   "id": "b485ad67",
   "metadata": {},
   "outputs": [],
   "source": []
  }
 ],
 "metadata": {
  "kernelspec": {
   "display_name": "Python 3 (ipykernel)",
   "language": "python",
   "name": "python3"
  },
  "language_info": {
   "codemirror_mode": {
    "name": "ipython",
    "version": 3
   },
   "file_extension": ".py",
   "mimetype": "text/x-python",
   "name": "python",
   "nbconvert_exporter": "python",
   "pygments_lexer": "ipython3",
   "version": "3.11.3"
  }
 },
 "nbformat": 4,
 "nbformat_minor": 5
}
