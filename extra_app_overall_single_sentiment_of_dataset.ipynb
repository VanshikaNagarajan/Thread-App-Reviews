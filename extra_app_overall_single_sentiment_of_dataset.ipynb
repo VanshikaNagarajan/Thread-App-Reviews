{
 "cells": [
  {
   "cell_type": "code",
   "execution_count": 1,
   "id": "0045de50",
   "metadata": {},
   "outputs": [],
   "source": [
    "#to determine the overall sentiment of the app based on the labelled reviews!"
   ]
  },
  {
   "cell_type": "code",
   "execution_count": 2,
   "id": "5c06e033",
   "metadata": {},
   "outputs": [
    {
     "name": "stdout",
     "output_type": "stream",
     "text": [
      "            source                                 review_description  rating  \\\n",
      "0      Google Play             Very good app for Android phone and me       5   \n",
      "1      Google Play                                             Sl👍👍👍👍       5   \n",
      "2      Google Play                                           Best app       5   \n",
      "3      Google Play                                         Gatiya app       1   \n",
      "4      Google Play                                           Lit bruv       5   \n",
      "...            ...                                                ...     ...   \n",
      "40430    App Store  They don’t let you delete your account once yo...       1   \n",
      "40431    App Store                               Twitter >>>> Threads       1   \n",
      "40432    App Store  Really? Hard to believe. I’m not in Calif., bu...       1   \n",
      "40433    App Store  While the app seems like a good start, it seem...       2   \n",
      "40434    App Store  Been on it one day and it glitches and no one ...       1   \n",
      "\n",
      "            review_date sentiment  \n",
      "0      27-08-2023 10:31  Positive  \n",
      "1      27-08-2023 10:28  Negative  \n",
      "2       27-08-2023 9:47  Positive  \n",
      "3       27-08-2023 9:13  Negative  \n",
      "4       27-08-2023 9:00  Negative  \n",
      "...                 ...       ...  \n",
      "40430   27-08-2023 4:21  Positive  \n",
      "40431   27-08-2023 1:23  Negative  \n",
      "40432  26-08-2023 20:51  Positive  \n",
      "40433  26-08-2023 19:49  Positive  \n",
      "40434  26-08-2023 18:49  Positive  \n",
      "\n",
      "[40435 rows x 5 columns]\n"
     ]
    }
   ],
   "source": [
    "import pandas as pd\n",
    "threads_S_result = pd.read_csv('sentiment_check_results.csv')\n",
    "print(threads_S_result)"
   ]
  },
  {
   "cell_type": "code",
   "execution_count": 3,
   "id": "5682c431",
   "metadata": {},
   "outputs": [],
   "source": [
    "#counts of numbers of positive negative and neutral labelled reviews\n",
    "count_positive_reviews = threads_S_result[threads_S_result['sentiment'] == 'positive']['sentiment'].count()\n",
    "count_negative_reviews = threads_S_result[threads_S_result['sentiment'] == 'negative']['sentiment'].count()\n",
    "count_neutral_reviews = threads_S_result[threads_S_result['sentiment'] == 'neutral']['sentiment'].count()"
   ]
  },
  {
   "cell_type": "code",
   "execution_count": 5,
   "id": "e0475d55",
   "metadata": {},
   "outputs": [
    {
     "name": "stdout",
     "output_type": "stream",
     "text": [
      "THE OVERALL SENTIMENT OF THE APP BASED ON THE REVIEWS: Neutral\n"
     ]
    }
   ],
   "source": [
    "#conditions applied to check the overall sentiment on the basis of reviews \n",
    "if count_positive_reviews > count_negative_reviews and count_positive_reviews > count_neutral_reviews:\n",
    "    overall_sentiment = \"Positive\"\n",
    "    print(\"THE OVERALL SENTIMENT OF THE APP BASED ON THE REVIEWS\", overall_sentiment)\n",
    "    \n",
    "elif count_negative_reviews > count_positive_reviews and count_negative_reviews > count_neutral_reviews:\n",
    "    overall_sentiment = \"Negative\"\n",
    "    print(\"THE OVERALL SENTIMENT OF THE APP BASED ON THE REVIEWS\", overall_sentiment)\n",
    "\n",
    "else:\n",
    "    overall_sentiment = \"Neutral\"\n",
    "    print(\"THE OVERALL SENTIMENT OF THE APP BASED ON THE REVIEWS:\", overall_sentiment)"
   ]
  },
  {
   "cell_type": "code",
   "execution_count": null,
   "id": "154ee35e",
   "metadata": {},
   "outputs": [],
   "source": []
  }
 ],
 "metadata": {
  "kernelspec": {
   "display_name": "Python 3 (ipykernel)",
   "language": "python",
   "name": "python3"
  },
  "language_info": {
   "codemirror_mode": {
    "name": "ipython",
    "version": 3
   },
   "file_extension": ".py",
   "mimetype": "text/x-python",
   "name": "python",
   "nbconvert_exporter": "python",
   "pygments_lexer": "ipython3",
   "version": "3.11.3"
  }
 },
 "nbformat": 4,
 "nbformat_minor": 5
}
