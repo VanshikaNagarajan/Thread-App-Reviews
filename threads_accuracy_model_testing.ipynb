{
 "cells": [
  {
   "cell_type": "code",
   "execution_count": 59,
   "id": "35644941",
   "metadata": {},
   "outputs": [],
   "source": [
    "import pandas as pd\n",
    "from sklearn.model_selection import train_test_split\n",
    "from sklearn.feature_extraction.text import TfidfVectorizer"
   ]
  },
  {
   "cell_type": "code",
   "execution_count": 60,
   "id": "7dfee98e",
   "metadata": {},
   "outputs": [],
   "source": [
    "threads_S_result = pd.read_csv('sentiment_check_results.csv')"
   ]
  },
  {
   "cell_type": "code",
   "execution_count": 61,
   "id": "06aec007",
   "metadata": {},
   "outputs": [],
   "source": [
    "#to split the dataset into train and test \n",
    "x_train, x_test, y_train, y_test = train_test_split(threads_S_result['review_description'], threads_S_result['sentiment'], test_size=0.2 )"
   ]
  },
  {
   "cell_type": "code",
   "execution_count": 62,
   "id": "77bdcff2",
   "metadata": {
    "scrolled": true
   },
   "outputs": [],
   "source": [
    "#a use of NLP tool to convert the raw text into numeric features by calculating frequency and importance of the letters.\n",
    "tfidf_vectorizer = TfidfVectorizer(max_features=4000)\n",
    "x_train_tfidf = tfidf_vectorizer.fit_transform(x_train)\n",
    "x_test_tfidf = tfidf_vectorizer.transform(x_test)"
   ]
  },
  {
   "cell_type": "code",
   "execution_count": 55,
   "id": "1138a02e",
   "metadata": {
    "scrolled": true
   },
   "outputs": [
    {
     "name": "stdout",
     "output_type": "stream",
     "text": [
      "Logistic Regression Model:\n",
      "Accuracy: 0.9093607023618152\n",
      "              precision    recall  f1-score   support\n",
      "\n",
      "    Negative       0.89      0.93      0.91      4038\n",
      "    Positive       0.93      0.89      0.91      4049\n",
      "\n",
      "    accuracy                           0.91      8087\n",
      "   macro avg       0.91      0.91      0.91      8087\n",
      "weighted avg       0.91      0.91      0.91      8087\n",
      "\n"
     ]
    }
   ],
   "source": [
    "#MODEL - 1: LOGISTIC REGRESSION \n",
    "from sklearn.linear_model import LogisticRegression\n",
    "from sklearn.metrics import accuracy_score, classification_report\n",
    "#function \n",
    "lr_model = LogisticRegression()\n",
    "#to fit the splitted datastet into the model \n",
    "lr_model.fit(x_train_tfidf, y_train)\n",
    "#to predict the test data \n",
    "lr_predictions = lr_model.predict(x_test_tfidf)\n",
    "#to calculate the accuracy \n",
    "lr_accuracy = accuracy_score(y_test, lr_predictions)\n",
    "#to calculate the classification report \n",
    "lr_classification_report = classification_report(y_test, lr_predictions)\n",
    "#to print the accuracy and report \n",
    "print(\"Logistic Regression Model:\")\n",
    "print(f\"Accuracy: {lr_accuracy}\")\n",
    "print(lr_classification_report)"
   ]
  },
  {
   "cell_type": "code",
   "execution_count": 56,
   "id": "456c4bf1",
   "metadata": {
    "scrolled": true
   },
   "outputs": [
    {
     "name": "stdout",
     "output_type": "stream",
     "text": [
      "SVM:\n",
      "Accuracy: 0.921355261530852\n",
      "              precision    recall  f1-score   support\n",
      "\n",
      "    Negative       0.91      0.94      0.92      4038\n",
      "    Positive       0.94      0.90      0.92      4049\n",
      "\n",
      "    accuracy                           0.92      8087\n",
      "   macro avg       0.92      0.92      0.92      8087\n",
      "weighted avg       0.92      0.92      0.92      8087\n",
      "\n"
     ]
    }
   ],
   "source": [
    "#MODEL -2: SVM\n",
    "from sklearn.svm import SVC\n",
    "from sklearn.metrics import accuracy_score, classification_report\n",
    "#function\n",
    "svm_model = SVC()\n",
    "#to fit the splitted datastet into the model \n",
    "svm_model.fit(x_train_tfidf, y_train)\n",
    "#to predict the test data\n",
    "svm_predictions = svm_model.predict(x_test_tfidf)\n",
    "#to calculate the accuracy \n",
    "svm_accuracy = accuracy_score(y_test, svm_predictions)\n",
    "#to calculate the classification report\n",
    "svm_classification_report = classification_report(y_test, svm_predictions)\n",
    "print(\"SVM:\")\n",
    "#to print the accuracy and report \n",
    "print(f\"Accuracy: {svm_accuracy}\")\n",
    "print(svm_classification_report)"
   ]
  },
  {
   "cell_type": "code",
   "execution_count": 57,
   "id": "91914659",
   "metadata": {},
   "outputs": [
    {
     "name": "stdout",
     "output_type": "stream",
     "text": [
      "Logistic Regression Model:\n",
      "Accuracy: 0.9120811178434525\n",
      "              precision    recall  f1-score   support\n",
      "\n",
      "    Negative       0.92      0.91      0.91      4038\n",
      "    Positive       0.91      0.92      0.91      4049\n",
      "\n",
      "    accuracy                           0.91      8087\n",
      "   macro avg       0.91      0.91      0.91      8087\n",
      "weighted avg       0.91      0.91      0.91      8087\n",
      "\n"
     ]
    }
   ],
   "source": [
    "#MODEL - 3: RANDOMFOREST CLASSIFIER \n",
    "from sklearn.ensemble import RandomForestClassifier\n",
    "from sklearn.metrics import accuracy_score, classification_report\n",
    "#FUNCTION\n",
    "rf_model = RandomForestClassifier()\n",
    "#to fit the splitted datastet into the model \n",
    "rf_model.fit(x_train_tfidf, y_train)\n",
    "#to predict the test data\n",
    "rf_predictions = rf_model.predict(x_test_tfidf)\n",
    "#to calcuate the accuracy of the model\n",
    "rf_accuracy = accuracy_score(y_test, rf_predictions)\n",
    "#to calculate the classification report\n",
    "rf_classification_report = classification_report(y_test, rf_predictions)\n",
    "print(\"Logistic Regression Model:\")\n",
    "#to print the accuracy and report \n",
    "print(f\"Accuracy: {rf_accuracy}\")\n",
    "print(rf_classification_report)"
   ]
  },
  {
   "cell_type": "code",
   "execution_count": 26,
   "id": "54a2db6f",
   "metadata": {},
   "outputs": [
    {
     "name": "stdout",
     "output_type": "stream",
     "text": [
      "naive_bayes:\n",
      "Accuracy: 0.8020279460863113\n",
      "              precision    recall  f1-score   support\n",
      "\n",
      "    Negative       0.83      0.75      0.79      4020\n",
      "    Positive       0.78      0.85      0.81      4067\n",
      "\n",
      "    accuracy                           0.80      8087\n",
      "   macro avg       0.80      0.80      0.80      8087\n",
      "weighted avg       0.80      0.80      0.80      8087\n",
      "\n"
     ]
    }
   ],
   "source": [
    "#MODEL - 4: NAIVE BAYES MODEL\n",
    "from sklearn.naive_bayes import MultinomialNB\n",
    "from sklearn.metrics import accuracy_score, classification_report\n",
    "#FUNCTION\n",
    "clf = MultinomialNB()\n",
    "#to fit the splitted datastet into the model \n",
    "clf.fit(x_train_tfidf, y_train)\n",
    "#to predict the test data\n",
    "clf_predictions = clf.predict(x_test_tfidf)\n",
    "#to calcuate the accuracy of the model\n",
    "clf_accuracy = accuracy_score(y_test, clf_predictions)\n",
    "#to calculate the classification report\n",
    "clf_classification_report = classification_report(y_test, clf_predictions)\n",
    "print(\"naive_bayes:\")\n",
    "#to print the accuracy and report\n",
    "print(f\"Accuracy: {clf_accuracy}\")\n",
    "print(clf_classification_report)"
   ]
  },
  {
   "cell_type": "code",
   "execution_count": null,
   "id": "285c5293",
   "metadata": {},
   "outputs": [],
   "source": []
  }
 ],
 "metadata": {
  "kernelspec": {
   "display_name": "Python 3 (ipykernel)",
   "language": "python",
   "name": "python3"
  },
  "language_info": {
   "codemirror_mode": {
    "name": "ipython",
    "version": 3
   },
   "file_extension": ".py",
   "mimetype": "text/x-python",
   "name": "python",
   "nbconvert_exporter": "python",
   "pygments_lexer": "ipython3",
   "version": "3.11.3"
  }
 },
 "nbformat": 4,
 "nbformat_minor": 5
}
