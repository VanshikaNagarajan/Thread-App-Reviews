{
 "cells": [
  {
   "cell_type": "code",
   "execution_count": 2,
   "id": "6aac9caf",
   "metadata": {},
   "outputs": [
    {
     "data": {
      "text/html": [
       "<div>\n",
       "<style scoped>\n",
       "    .dataframe tbody tr th:only-of-type {\n",
       "        vertical-align: middle;\n",
       "    }\n",
       "\n",
       "    .dataframe tbody tr th {\n",
       "        vertical-align: top;\n",
       "    }\n",
       "\n",
       "    .dataframe thead th {\n",
       "        text-align: right;\n",
       "    }\n",
       "</style>\n",
       "<table border=\"1\" class=\"dataframe\">\n",
       "  <thead>\n",
       "    <tr style=\"text-align: right;\">\n",
       "      <th></th>\n",
       "      <th>source</th>\n",
       "      <th>review_description</th>\n",
       "      <th>rating</th>\n",
       "      <th>review_date</th>\n",
       "    </tr>\n",
       "  </thead>\n",
       "  <tbody>\n",
       "    <tr>\n",
       "      <th>0</th>\n",
       "      <td>Google Play</td>\n",
       "      <td>Very good app for Android phone and me</td>\n",
       "      <td>5</td>\n",
       "      <td>27-08-2023 10:31</td>\n",
       "    </tr>\n",
       "    <tr>\n",
       "      <th>1</th>\n",
       "      <td>Google Play</td>\n",
       "      <td>Sl👍👍👍👍</td>\n",
       "      <td>5</td>\n",
       "      <td>27-08-2023 10:28</td>\n",
       "    </tr>\n",
       "    <tr>\n",
       "      <th>2</th>\n",
       "      <td>Google Play</td>\n",
       "      <td>Best app</td>\n",
       "      <td>5</td>\n",
       "      <td>27-08-2023 9:47</td>\n",
       "    </tr>\n",
       "    <tr>\n",
       "      <th>3</th>\n",
       "      <td>Google Play</td>\n",
       "      <td>Gatiya app</td>\n",
       "      <td>1</td>\n",
       "      <td>27-08-2023 9:13</td>\n",
       "    </tr>\n",
       "    <tr>\n",
       "      <th>4</th>\n",
       "      <td>Google Play</td>\n",
       "      <td>Lit bruv</td>\n",
       "      <td>5</td>\n",
       "      <td>27-08-2023 9:00</td>\n",
       "    </tr>\n",
       "    <tr>\n",
       "      <th>...</th>\n",
       "      <td>...</td>\n",
       "      <td>...</td>\n",
       "      <td>...</td>\n",
       "      <td>...</td>\n",
       "    </tr>\n",
       "    <tr>\n",
       "      <th>40430</th>\n",
       "      <td>App Store</td>\n",
       "      <td>They don’t let you delete your account once yo...</td>\n",
       "      <td>1</td>\n",
       "      <td>27-08-2023 4:21</td>\n",
       "    </tr>\n",
       "    <tr>\n",
       "      <th>40431</th>\n",
       "      <td>App Store</td>\n",
       "      <td>Twitter &gt;&gt;&gt;&gt; Threads</td>\n",
       "      <td>1</td>\n",
       "      <td>27-08-2023 1:23</td>\n",
       "    </tr>\n",
       "    <tr>\n",
       "      <th>40432</th>\n",
       "      <td>App Store</td>\n",
       "      <td>Really? Hard to believe. I’m not in Calif., bu...</td>\n",
       "      <td>1</td>\n",
       "      <td>26-08-2023 20:51</td>\n",
       "    </tr>\n",
       "    <tr>\n",
       "      <th>40433</th>\n",
       "      <td>App Store</td>\n",
       "      <td>While the app seems like a good start, it seem...</td>\n",
       "      <td>2</td>\n",
       "      <td>26-08-2023 19:49</td>\n",
       "    </tr>\n",
       "    <tr>\n",
       "      <th>40434</th>\n",
       "      <td>App Store</td>\n",
       "      <td>Been on it one day and it glitches and no one ...</td>\n",
       "      <td>1</td>\n",
       "      <td>26-08-2023 18:49</td>\n",
       "    </tr>\n",
       "  </tbody>\n",
       "</table>\n",
       "<p>40435 rows × 4 columns</p>\n",
       "</div>"
      ],
      "text/plain": [
       "            source                                 review_description  rating  \\\n",
       "0      Google Play             Very good app for Android phone and me       5   \n",
       "1      Google Play                                             Sl👍👍👍👍       5   \n",
       "2      Google Play                                           Best app       5   \n",
       "3      Google Play                                         Gatiya app       1   \n",
       "4      Google Play                                           Lit bruv       5   \n",
       "...            ...                                                ...     ...   \n",
       "40430    App Store  They don’t let you delete your account once yo...       1   \n",
       "40431    App Store                               Twitter >>>> Threads       1   \n",
       "40432    App Store  Really? Hard to believe. I’m not in Calif., bu...       1   \n",
       "40433    App Store  While the app seems like a good start, it seem...       2   \n",
       "40434    App Store  Been on it one day and it glitches and no one ...       1   \n",
       "\n",
       "            review_date  \n",
       "0      27-08-2023 10:31  \n",
       "1      27-08-2023 10:28  \n",
       "2       27-08-2023 9:47  \n",
       "3       27-08-2023 9:13  \n",
       "4       27-08-2023 9:00  \n",
       "...                 ...  \n",
       "40430   27-08-2023 4:21  \n",
       "40431   27-08-2023 1:23  \n",
       "40432  26-08-2023 20:51  \n",
       "40433  26-08-2023 19:49  \n",
       "40434  26-08-2023 18:49  \n",
       "\n",
       "[40435 rows x 4 columns]"
      ]
     },
     "execution_count": 2,
     "metadata": {},
     "output_type": "execute_result"
    }
   ],
   "source": [
    "#to load the dataset\n",
    "import pandas as pd\n",
    "threads_data = pd.read_csv('threads_reviews.csv')\n",
    "threads_data"
   ]
  },
  {
   "cell_type": "code",
   "execution_count": 3,
   "id": "7689c92a",
   "metadata": {},
   "outputs": [
    {
     "data": {
      "text/html": [
       "<div>\n",
       "<style scoped>\n",
       "    .dataframe tbody tr th:only-of-type {\n",
       "        vertical-align: middle;\n",
       "    }\n",
       "\n",
       "    .dataframe tbody tr th {\n",
       "        vertical-align: top;\n",
       "    }\n",
       "\n",
       "    .dataframe thead th {\n",
       "        text-align: right;\n",
       "    }\n",
       "</style>\n",
       "<table border=\"1\" class=\"dataframe\">\n",
       "  <thead>\n",
       "    <tr style=\"text-align: right;\">\n",
       "      <th></th>\n",
       "      <th>source</th>\n",
       "      <th>review_description</th>\n",
       "      <th>rating</th>\n",
       "      <th>review_date</th>\n",
       "    </tr>\n",
       "  </thead>\n",
       "  <tbody>\n",
       "    <tr>\n",
       "      <th>0</th>\n",
       "      <td>Google Play</td>\n",
       "      <td>Very good app for Android phone and me</td>\n",
       "      <td>5</td>\n",
       "      <td>27-08-2023 10:31</td>\n",
       "    </tr>\n",
       "    <tr>\n",
       "      <th>1</th>\n",
       "      <td>Google Play</td>\n",
       "      <td>Sl👍👍👍👍</td>\n",
       "      <td>5</td>\n",
       "      <td>27-08-2023 10:28</td>\n",
       "    </tr>\n",
       "    <tr>\n",
       "      <th>2</th>\n",
       "      <td>Google Play</td>\n",
       "      <td>Best app</td>\n",
       "      <td>5</td>\n",
       "      <td>27-08-2023 9:47</td>\n",
       "    </tr>\n",
       "    <tr>\n",
       "      <th>3</th>\n",
       "      <td>Google Play</td>\n",
       "      <td>Gatiya app</td>\n",
       "      <td>1</td>\n",
       "      <td>27-08-2023 9:13</td>\n",
       "    </tr>\n",
       "    <tr>\n",
       "      <th>4</th>\n",
       "      <td>Google Play</td>\n",
       "      <td>Lit bruv</td>\n",
       "      <td>5</td>\n",
       "      <td>27-08-2023 9:00</td>\n",
       "    </tr>\n",
       "  </tbody>\n",
       "</table>\n",
       "</div>"
      ],
      "text/plain": [
       "        source                      review_description  rating  \\\n",
       "0  Google Play  Very good app for Android phone and me       5   \n",
       "1  Google Play                                  Sl👍👍👍👍       5   \n",
       "2  Google Play                                Best app       5   \n",
       "3  Google Play                              Gatiya app       1   \n",
       "4  Google Play                                Lit bruv       5   \n",
       "\n",
       "        review_date  \n",
       "0  27-08-2023 10:31  \n",
       "1  27-08-2023 10:28  \n",
       "2   27-08-2023 9:47  \n",
       "3   27-08-2023 9:13  \n",
       "4   27-08-2023 9:00  "
      ]
     },
     "execution_count": 3,
     "metadata": {},
     "output_type": "execute_result"
    }
   ],
   "source": [
    "#to display first few data\n",
    "threads_data.head()"
   ]
  },
  {
   "cell_type": "code",
   "execution_count": 4,
   "id": "bd115754",
   "metadata": {},
   "outputs": [
    {
     "name": "stdout",
     "output_type": "stream",
     "text": [
      "<class 'pandas.core.frame.DataFrame'>\n",
      "RangeIndex: 40435 entries, 0 to 40434\n",
      "Data columns (total 4 columns):\n",
      " #   Column              Non-Null Count  Dtype \n",
      "---  ------              --------------  ----- \n",
      " 0   source              40435 non-null  object\n",
      " 1   review_description  40435 non-null  object\n",
      " 2   rating              40435 non-null  int64 \n",
      " 3   review_date         40435 non-null  object\n",
      "dtypes: int64(1), object(3)\n",
      "memory usage: 1.2+ MB\n"
     ]
    }
   ],
   "source": [
    "#to display the information of the dataset \n",
    "threads_data.info()"
   ]
  },
  {
   "cell_type": "code",
   "execution_count": 5,
   "id": "2609d397",
   "metadata": {},
   "outputs": [
    {
     "data": {
      "text/html": [
       "<div>\n",
       "<style scoped>\n",
       "    .dataframe tbody tr th:only-of-type {\n",
       "        vertical-align: middle;\n",
       "    }\n",
       "\n",
       "    .dataframe tbody tr th {\n",
       "        vertical-align: top;\n",
       "    }\n",
       "\n",
       "    .dataframe thead th {\n",
       "        text-align: right;\n",
       "    }\n",
       "</style>\n",
       "<table border=\"1\" class=\"dataframe\">\n",
       "  <thead>\n",
       "    <tr style=\"text-align: right;\">\n",
       "      <th></th>\n",
       "      <th>rating</th>\n",
       "    </tr>\n",
       "  </thead>\n",
       "  <tbody>\n",
       "    <tr>\n",
       "      <th>count</th>\n",
       "      <td>40435.000000</td>\n",
       "    </tr>\n",
       "    <tr>\n",
       "      <th>mean</th>\n",
       "      <td>3.300532</td>\n",
       "    </tr>\n",
       "    <tr>\n",
       "      <th>std</th>\n",
       "      <td>1.773157</td>\n",
       "    </tr>\n",
       "    <tr>\n",
       "      <th>min</th>\n",
       "      <td>1.000000</td>\n",
       "    </tr>\n",
       "    <tr>\n",
       "      <th>25%</th>\n",
       "      <td>1.000000</td>\n",
       "    </tr>\n",
       "    <tr>\n",
       "      <th>50%</th>\n",
       "      <td>4.000000</td>\n",
       "    </tr>\n",
       "    <tr>\n",
       "      <th>75%</th>\n",
       "      <td>5.000000</td>\n",
       "    </tr>\n",
       "    <tr>\n",
       "      <th>max</th>\n",
       "      <td>5.000000</td>\n",
       "    </tr>\n",
       "  </tbody>\n",
       "</table>\n",
       "</div>"
      ],
      "text/plain": [
       "             rating\n",
       "count  40435.000000\n",
       "mean       3.300532\n",
       "std        1.773157\n",
       "min        1.000000\n",
       "25%        1.000000\n",
       "50%        4.000000\n",
       "75%        5.000000\n",
       "max        5.000000"
      ]
     },
     "execution_count": 5,
     "metadata": {},
     "output_type": "execute_result"
    }
   ],
   "source": [
    "#to get summary statistics \n",
    "threads_data.describe()"
   ]
  },
  {
   "cell_type": "code",
   "execution_count": 7,
   "id": "d18f1bd1",
   "metadata": {},
   "outputs": [
    {
     "name": "stdout",
     "output_type": "stream",
     "text": [
      "Index(['source', 'review_description', 'rating', 'review_date'], dtype='object')\n"
     ]
    }
   ],
   "source": [
    "#to print the columns\n",
    "print(threads_data.columns)"
   ]
  },
  {
   "cell_type": "code",
   "execution_count": 8,
   "id": "adf7ea0d",
   "metadata": {},
   "outputs": [
    {
     "data": {
      "text/html": [
       "<div>\n",
       "<style scoped>\n",
       "    .dataframe tbody tr th:only-of-type {\n",
       "        vertical-align: middle;\n",
       "    }\n",
       "\n",
       "    .dataframe tbody tr th {\n",
       "        vertical-align: top;\n",
       "    }\n",
       "\n",
       "    .dataframe thead th {\n",
       "        text-align: right;\n",
       "    }\n",
       "</style>\n",
       "<table border=\"1\" class=\"dataframe\">\n",
       "  <thead>\n",
       "    <tr style=\"text-align: right;\">\n",
       "      <th></th>\n",
       "      <th>source</th>\n",
       "      <th>review_description</th>\n",
       "      <th>rating</th>\n",
       "      <th>review_date</th>\n",
       "    </tr>\n",
       "  </thead>\n",
       "  <tbody>\n",
       "    <tr>\n",
       "      <th>0</th>\n",
       "      <td>Google Play</td>\n",
       "      <td>Very good app for Android phone and me</td>\n",
       "      <td>5</td>\n",
       "      <td>27-08-2023 10:31</td>\n",
       "    </tr>\n",
       "    <tr>\n",
       "      <th>1</th>\n",
       "      <td>Google Play</td>\n",
       "      <td>Sl👍👍👍👍</td>\n",
       "      <td>5</td>\n",
       "      <td>27-08-2023 10:28</td>\n",
       "    </tr>\n",
       "    <tr>\n",
       "      <th>2</th>\n",
       "      <td>Google Play</td>\n",
       "      <td>Best app</td>\n",
       "      <td>5</td>\n",
       "      <td>27-08-2023 9:47</td>\n",
       "    </tr>\n",
       "    <tr>\n",
       "      <th>3</th>\n",
       "      <td>Google Play</td>\n",
       "      <td>Gatiya app</td>\n",
       "      <td>1</td>\n",
       "      <td>27-08-2023 9:13</td>\n",
       "    </tr>\n",
       "    <tr>\n",
       "      <th>4</th>\n",
       "      <td>Google Play</td>\n",
       "      <td>Lit bruv</td>\n",
       "      <td>5</td>\n",
       "      <td>27-08-2023 9:00</td>\n",
       "    </tr>\n",
       "    <tr>\n",
       "      <th>...</th>\n",
       "      <td>...</td>\n",
       "      <td>...</td>\n",
       "      <td>...</td>\n",
       "      <td>...</td>\n",
       "    </tr>\n",
       "    <tr>\n",
       "      <th>40416</th>\n",
       "      <td>App Store</td>\n",
       "      <td>They don’t let you delete your account once yo...</td>\n",
       "      <td>1</td>\n",
       "      <td>27-08-2023 4:21</td>\n",
       "    </tr>\n",
       "    <tr>\n",
       "      <th>40417</th>\n",
       "      <td>App Store</td>\n",
       "      <td>Twitter &gt;&gt;&gt;&gt; Threads</td>\n",
       "      <td>1</td>\n",
       "      <td>27-08-2023 1:23</td>\n",
       "    </tr>\n",
       "    <tr>\n",
       "      <th>40418</th>\n",
       "      <td>App Store</td>\n",
       "      <td>Really? Hard to believe. I’m not in Calif., bu...</td>\n",
       "      <td>1</td>\n",
       "      <td>26-08-2023 20:51</td>\n",
       "    </tr>\n",
       "    <tr>\n",
       "      <th>40419</th>\n",
       "      <td>App Store</td>\n",
       "      <td>While the app seems like a good start, it seem...</td>\n",
       "      <td>2</td>\n",
       "      <td>26-08-2023 19:49</td>\n",
       "    </tr>\n",
       "    <tr>\n",
       "      <th>40420</th>\n",
       "      <td>App Store</td>\n",
       "      <td>Been on it one day and it glitches and no one ...</td>\n",
       "      <td>1</td>\n",
       "      <td>26-08-2023 18:49</td>\n",
       "    </tr>\n",
       "  </tbody>\n",
       "</table>\n",
       "<p>40340 rows × 4 columns</p>\n",
       "</div>"
      ],
      "text/plain": [
       "            source                                 review_description  rating  \\\n",
       "0      Google Play             Very good app for Android phone and me       5   \n",
       "1      Google Play                                             Sl👍👍👍👍       5   \n",
       "2      Google Play                                           Best app       5   \n",
       "3      Google Play                                         Gatiya app       1   \n",
       "4      Google Play                                           Lit bruv       5   \n",
       "...            ...                                                ...     ...   \n",
       "40416    App Store  They don’t let you delete your account once yo...       1   \n",
       "40417    App Store                               Twitter >>>> Threads       1   \n",
       "40418    App Store  Really? Hard to believe. I’m not in Calif., bu...       1   \n",
       "40419    App Store  While the app seems like a good start, it seem...       2   \n",
       "40420    App Store  Been on it one day and it glitches and no one ...       1   \n",
       "\n",
       "            review_date  \n",
       "0      27-08-2023 10:31  \n",
       "1      27-08-2023 10:28  \n",
       "2       27-08-2023 9:47  \n",
       "3       27-08-2023 9:13  \n",
       "4       27-08-2023 9:00  \n",
       "...                 ...  \n",
       "40416   27-08-2023 4:21  \n",
       "40417   27-08-2023 1:23  \n",
       "40418  26-08-2023 20:51  \n",
       "40419  26-08-2023 19:49  \n",
       "40420  26-08-2023 18:49  \n",
       "\n",
       "[40340 rows x 4 columns]"
      ]
     },
     "execution_count": 8,
     "metadata": {},
     "output_type": "execute_result"
    }
   ],
   "source": [
    "#to remove duplicates from the dataset\n",
    "threads_data.drop_duplicates(inplace=True)\n",
    "threads_data"
   ]
  },
  {
   "cell_type": "code",
   "execution_count": 10,
   "id": "6f846ab8",
   "metadata": {},
   "outputs": [
    {
     "name": "stdout",
     "output_type": "stream",
     "text": [
      "No missing values in the dataset\n"
     ]
    }
   ],
   "source": [
    "#to check if there is any null value \n",
    "if threads_data.isnull().values.any():\n",
    "    print(\"There are missing values in the dataset\")\n",
    "else:\n",
    "    print(\"No missing values in the dataset\")"
   ]
  },
  {
   "cell_type": "code",
   "execution_count": 5,
   "id": "908fff1a",
   "metadata": {},
   "outputs": [
    {
     "data": {
      "image/png": "[encoded data removed]",
      "text/plain": [
       "<Figure size 250x250 with 2 Axes>"
      ]
     },
     "metadata": {},
     "output_type": "display_data"
    }
   ],
   "source": [
    "#to create a pairplot\n",
    "import seaborn as sns\n",
    "import pandas as pd\n",
    "threads_data = pd.read_csv('threads_reviews.csv')\n",
    "import matplotlib.pyplot as plt\n",
    "sns.pairplot(threads_data)\n",
    "plt.show()"
   ]
  },
  {
   "cell_type": "code",
   "execution_count": 9,
   "id": "bc155120",
   "metadata": {
    "scrolled": true
   },
   "outputs": [
    {
     "data": {
      "text/plain": [
       "<Axes: xlabel='review_date'>"
      ]
     },
     "execution_count": 9,
     "metadata": {},
     "output_type": "execute_result"
    },
    {
     "data": {
      "image/png": "[encoded data removed]",
      "text/plain": [
       "<Figure size 500x300 with 1 Axes>"
      ]
     },
     "metadata": {},
     "output_type": "display_data"
    }
   ],
   "source": [
    "#to plot the graph for timeframe\n",
    "import pandas as pd\n",
    "threads_data = pd.read_csv('threads_reviews.csv')\n",
    "threads_data['review_date'] = pd.to_datetime(threads_data['review_date'])\n",
    "threads_data.set_index('review_date', inplace=True)\n",
    "threads_data['rating'].plot(figsize=(5,3))"
   ]
  },
  {
   "cell_type": "code",
   "execution_count": 21,
   "id": "868a8166",
   "metadata": {},
   "outputs": [
    {
     "data": {
      "image/png": "[encoded data removed]",
      "text/plain": [
       "<Figure size 640x480 with 1 Axes>"
      ]
     },
     "metadata": {},
     "output_type": "display_data"
    },
    {
     "data": {
      "image/png": "[encoded data removed]",
      "text/plain": [
       "<Figure size 640x480 with 1 Axes>"
      ]
     },
     "metadata": {},
     "output_type": "display_data"
    }
   ],
   "source": [
    "#to plot the graph for rating and its frequency\n",
    "import matplotlib.pyplot as plt\n",
    "threads_data['rating'].hist()\n",
    "plt.xlabel('Rating')\n",
    "plt.ylabel('Frequency')\n",
    "plt.title('Rating Distribution')\n",
    "plt.show()\n",
    "\n",
    "threads_data.boxplot(column='rating', vert=False)\n",
    "plt.xlabel('Rating')\n",
    "plt.title('Rating Distribution')\n",
    "plt.show()"
   ]
  },
  {
   "cell_type": "code",
   "execution_count": 22,
   "id": "ea62243e",
   "metadata": {},
   "outputs": [
    {
     "data": {
      "image/png": "[encoded data removed]",
      "text/plain": [
       "<Figure size 640x480 with 1 Axes>"
      ]
     },
     "metadata": {},
     "output_type": "display_data"
    }
   ],
   "source": [
    "#to see the number of rating with timeframe\n",
    "plt.scatter(threads_data.index, threads_data['rating'])\n",
    "plt.xlabel('Review Date')\n",
    "plt.ylabel('Rating')\n",
    "plt.title('Rating Over Time')\n",
    "plt.show()"
   ]
  },
  {
   "cell_type": "code",
   "execution_count": 10,
   "id": "2417d287",
   "metadata": {},
   "outputs": [
    {
     "name": "stdout",
     "output_type": "stream",
     "text": [
      "Mean Rating: 3.300531717571411\n",
      "Median Rating: 4.0\n",
      "Mode Rating: 5\n",
      "Variance of Rating: 3.144085140430113\n",
      "Standard Deviation of Rating: 1.773156829056616\n"
     ]
    }
   ],
   "source": [
    "#to calculate the statistics of the dataset\n",
    "mean_Rating = threads_data['rating'].mean()\n",
    "median_Rating = threads_data['rating'].median()\n",
    "mode_Rating = threads_data['rating'].mode().values[0]  # Mode can be a list if there are multiple modes\n",
    "\n",
    "# Calculate measures of dispersion\n",
    "variance_Rating = threads_data['rating'].var()\n",
    "std_dev_Rating = threads_data['rating'].std()\n",
    "\n",
    "# Print the results\n",
    "print(f\"Mean Rating: {mean_Rating}\")\n",
    "print(f\"Median Rating: {median_Rating}\")\n",
    "print(f\"Mode Rating: {mode_Rating}\")\n",
    "print(f\"Variance of Rating: {variance_Rating}\")\n",
    "print(f\"Standard Deviation of Rating: {std_dev_Rating}\")\n"
   ]
  },
  {
   "cell_type": "code",
   "execution_count": null,
   "id": "f19c88bc",
   "metadata": {},
   "outputs": [],
   "source": []
  }
 ],
 "metadata": {
  "kernelspec": {
   "display_name": "Python 3 (ipykernel)",
   "language": "python",
   "name": "python3"
  },
  "language_info": {
   "codemirror_mode": {
    "name": "ipython",
    "version": 3
   },
   "file_extension": ".py",
   "mimetype": "text/x-python",
   "name": "python",
   "nbconvert_exporter": "python",
   "pygments_lexer": "ipython3",
   "version": "3.11.3"
  }
 },
 "nbformat": 4,
 "nbformat_minor": 5
}
