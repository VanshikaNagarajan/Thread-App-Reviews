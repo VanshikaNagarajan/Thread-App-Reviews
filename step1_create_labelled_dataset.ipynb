{
 "cells": [
  {
   "cell_type": "code",
   "execution_count": 1,
   "id": "842effcc",
   "metadata": {},
   "outputs": [],
   "source": [
    "import pandas as pd\n",
    "threads_data = pd.read_csv('threads_reviews.csv')"
   ]
  },
  {
   "cell_type": "code",
   "execution_count": 3,
   "id": "98aea9e2",
   "metadata": {},
   "outputs": [
    {
     "data": {
      "text/plain": [
       "0                   Very good app for Android phone and me\n",
       "1                                                   Sl👍👍👍👍\n",
       "2                                                 Best app\n",
       "3                                               Gatiya app\n",
       "4                                                 Lit bruv\n",
       "                               ...                        \n",
       "40430    They don’t let you delete your account once yo...\n",
       "40431                                 Twitter >>>> Threads\n",
       "40432    Really? Hard to believe. I’m not in Calif., bu...\n",
       "40433    While the app seems like a good start, it seem...\n",
       "40434    Been on it one day and it glitches and no one ...\n",
       "Name: review_description, Length: 40435, dtype: object"
      ]
     },
     "execution_count": 3,
     "metadata": {},
     "output_type": "execute_result"
    }
   ],
   "source": [
    "#to load the review column\n",
    "desired_colomn = threads_data['review_description']\n",
    "desired_colomn"
   ]
  },
  {
   "cell_type": "code",
   "execution_count": 2,
   "id": "04441fa1",
   "metadata": {},
   "outputs": [
    {
     "name": "stderr",
     "output_type": "stream",
     "text": [
      "[nltk_data] Downloading package punkt to /Users/vanshika/nltk_data...\n",
      "[nltk_data]   Package punkt is already up-to-date!\n",
      "[nltk_data] Downloading package vader_lexicon to\n",
      "[nltk_data]     /Users/vanshika/nltk_data...\n",
      "[nltk_data]   Package vader_lexicon is already up-to-date!\n"
     ]
    },
    {
     "data": {
      "text/plain": [
       "True"
      ]
     },
     "execution_count": 2,
     "metadata": {},
     "output_type": "execute_result"
    }
   ],
   "source": [
    "import nltk\n",
    "nltk.download('punkt')\n",
    "nltk.download('vader_lexicon')"
   ]
  },
  {
   "cell_type": "code",
   "execution_count": 17,
   "id": "1c7bcc9c",
   "metadata": {
    "scrolled": false
   },
   "outputs": [
    {
     "name": "stderr",
     "output_type": "stream",
     "text": [
      "[nltk_data] Downloading package vader_lexicon to\n",
      "[nltk_data]     /Users/vanshika/nltk_data...\n",
      "[nltk_data]   Package vader_lexicon is already up-to-date!\n"
     ]
    },
    {
     "name": "stdout",
     "output_type": "stream",
     "text": [
      "            source                                 review_description  rating  \\\n",
      "0      Google Play             Very good app for Android phone and me       5   \n",
      "1      Google Play                                             Sl👍👍👍👍       5   \n",
      "2      Google Play                                           Best app       5   \n",
      "3      Google Play                                         Gatiya app       1   \n",
      "4      Google Play                                           Lit bruv       5   \n",
      "...            ...                                                ...     ...   \n",
      "40430    App Store  They don’t let you delete your account once yo...       1   \n",
      "40431    App Store                               Twitter >>>> Threads       1   \n",
      "40432    App Store  Really? Hard to believe. I’m not in Calif., bu...       1   \n",
      "40433    App Store  While the app seems like a good start, it seem...       2   \n",
      "40434    App Store  Been on it one day and it glitches and no one ...       1   \n",
      "\n",
      "            review_date sentiment  \n",
      "0      27-08-2023 10:31  Positive  \n",
      "1      27-08-2023 10:28  Negative  \n",
      "2       27-08-2023 9:47  Positive  \n",
      "3       27-08-2023 9:13  Negative  \n",
      "4       27-08-2023 9:00  Negative  \n",
      "...                 ...       ...  \n",
      "40430   27-08-2023 4:21  Positive  \n",
      "40431   27-08-2023 1:23  Negative  \n",
      "40432  26-08-2023 20:51  Positive  \n",
      "40433  26-08-2023 19:49  Positive  \n",
      "40434  26-08-2023 18:49  Positive  \n",
      "\n",
      "[40435 rows x 5 columns]\n"
     ]
    }
   ],
   "source": [
    "import pandas as pd\n",
    "threads_data = pd.read_csv('threads_reviews.csv')\n",
    "import nltk\n",
    "from nltk.sentiment.vader import SentimentIntensityAnalyzer\n",
    "nltk.download('vader_lexicon')\n",
    "analyzer = SentimentIntensityAnalyzer()\n",
    "\n",
    "#labelling of the text review to positive, negative and neutral\n",
    "def get_sentimental_label(text):\n",
    "    senti_scores = analyzer.polarity_scores(text)\n",
    "    compound_score = senti_scores['compound']\n",
    "    if compound_score >= 0.05:\n",
    "        return \"Positive\"\n",
    "    elif compound_score <= 0.05:\n",
    "            return \"Negative\"\n",
    "    else:\n",
    "        return \"Neutral\"\n",
    "        \n",
    "    #to create a new coloumn sentiment which is the labelled data\n",
    "threads_data['sentiment'] = threads_data['review_description'].apply(get_sentimental_label)\n",
    "print(threads_data)"
   ]
  },
  {
   "cell_type": "code",
   "execution_count": 21,
   "id": "0641b11c",
   "metadata": {},
   "outputs": [
    {
     "name": "stdout",
     "output_type": "stream",
     "text": [
      "            source                                 review_description  rating  \\\n",
      "0      Google Play             Very good app for Android phone and me       5   \n",
      "1      Google Play                                             Sl👍👍👍👍       5   \n",
      "2      Google Play                                           Best app       5   \n",
      "3      Google Play                                         Gatiya app       1   \n",
      "4      Google Play                                           Lit bruv       5   \n",
      "...            ...                                                ...     ...   \n",
      "40430    App Store  They don’t let you delete your account once yo...       1   \n",
      "40431    App Store                               Twitter >>>> Threads       1   \n",
      "40432    App Store  Really? Hard to believe. I’m not in Calif., bu...       1   \n",
      "40433    App Store  While the app seems like a good start, it seem...       2   \n",
      "40434    App Store  Been on it one day and it glitches and no one ...       1   \n",
      "\n",
      "            review_date sentiment  \n",
      "0      27-08-2023 10:31  Positive  \n",
      "1      27-08-2023 10:28  Negative  \n",
      "2       27-08-2023 9:47  Positive  \n",
      "3       27-08-2023 9:13  Negative  \n",
      "4       27-08-2023 9:00  Negative  \n",
      "...                 ...       ...  \n",
      "40430   27-08-2023 4:21  Positive  \n",
      "40431   27-08-2023 1:23  Negative  \n",
      "40432  26-08-2023 20:51  Positive  \n",
      "40433  26-08-2023 19:49  Positive  \n",
      "40434  26-08-2023 18:49  Positive  \n",
      "\n",
      "[40435 rows x 5 columns]\n"
     ]
    }
   ],
   "source": [
    "#to create a new csv file which has the labelled data\n",
    "import pandas as pd\n",
    "threads_data.to_csv('sentiment_check_results.csv', index = False)\n",
    "threads_S_result = pd.read_csv('sentiment_check_results.csv')\n",
    "print(threads_S_result)"
   ]
  },
  {
   "cell_type": "code",
   "execution_count": null,
   "id": "7085ba01",
   "metadata": {},
   "outputs": [],
   "source": []
  }
 ],
 "metadata": {
  "kernelspec": {
   "display_name": "Python 3 (ipykernel)",
   "language": "python",
   "name": "python3"
  },
  "language_info": {
   "codemirror_mode": {
    "name": "ipython",
    "version": 3
   },
   "file_extension": ".py",
   "mimetype": "text/x-python",
   "name": "python",
   "nbconvert_exporter": "python",
   "pygments_lexer": "ipython3",
   "version": "3.11.3"
  }
 },
 "nbformat": 4,
 "nbformat_minor": 5
}
